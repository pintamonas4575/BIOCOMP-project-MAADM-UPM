{
 "cells": [
  {
   "cell_type": "code",
   "execution_count": null,
   "metadata": {},
   "outputs": [],
   "source": [
    "import numpy as np\n",
    "import random\n",
    "import copy\n",
    "import time\n",
    "import math"
   ]
  },
  {
   "cell_type": "code",
   "execution_count": 7,
   "metadata": {},
   "outputs": [],
   "source": [
    "class AG_Himmelblau():\n",
    "    def __init__(self, N: int):\n",
    "        self.population = [[math.trunc(random.uniform(-5, 5) * 100) / 100 for _ in range(2)] for i in range(N)]\n",
    "        self.fitnesses = []\n",
    "\n",
    "    def sort_pop(self, fitness_function, reverse_sort: bool) -> tuple[list[list], list]:\n",
    "        \"\"\"Sort population by fitness function. Return tuple with population list and fitness list\"\"\"\n",
    "\n",
    "        fitness_list = [fitness_function(ind) for ind in self.population]\n",
    "        lista = sorted(zip(self.population, fitness_list), key=lambda x: x[1], reverse=reverse_sort)\n",
    "        self.population = [x[0] for x in lista]\n",
    "        self.fitnesses = [x[1] for x in lista]\n",
    "\n",
    "    def select(self, T: int) -> list[float, float]:\n",
    "        \"\"\"Return a copy of an indivudual by tournament selection. Population already ordered by fitness\"\"\"\n",
    "\n",
    "        choices=random.choices(copy.copy(self.population), k=T)\n",
    "        indices=[self.population.index(c) for c in choices]\n",
    "        return self.population[np.argmin(indices)]\n",
    "\n",
    "    def crossover(self, parent1: list[float, float], parent2: list[float, float], pcross: float) -> tuple[list,list]: \n",
    "        if random.random()<pcross:\n",
    "            child1 = [parent1[0], parent2[1]]\n",
    "            child2 = [parent1[1], parent2[0]]\n",
    "        else:\n",
    "            child1, child2 = parent1[:], parent2[:]\n",
    "        return child1, child2\n",
    "\n",
    "    def mutate(self, individual: list[float, float], pmut: float) -> list[float, float]:\n",
    "        if random.random()<pmut:\n",
    "            individual[0], individual[1] = [math.trunc(random.uniform(-5, 5) * 100) / 100 for _ in range(2)]\n",
    "        return individual\n",
    "\n",
    "    def evolve(self, fitness_function, pmut=0.1, pcross=0.7, ngen=100, T=2, trace=50, reverse_sort=False, elitism=False) -> None:\n",
    "        \"\"\"Evolution procedure. Initial population already created\"\"\"\n",
    "\n",
    "        for i in range(ngen):\n",
    "            new_pop = []\n",
    "            self.sort_pop(fitness_function, reverse_sort)\n",
    "            if elitism:\n",
    "                new_pop.append(self.population[0])\n",
    "                new_pop.append(self.population[1])\n",
    "            while len(new_pop) != 100:   \n",
    "                individual1 = self.select(T)\n",
    "                individual2 = self.select(T)\n",
    "                child1, child2 = self.crossover(individual1, individual2, pcross)\n",
    "                mutated1 = self.mutate(child1, pmut)\n",
    "                mutated2 = self.mutate(child2, pmut)\n",
    "                new_pop.append(mutated1)\n",
    "                new_pop.append(mutated2)\n",
    "                \n",
    "            self.population = [*new_pop] # make a copy\n",
    "\n",
    "            if i % trace == 0 or i == ngen-1: # en la última gen se ordena\n",
    "                self.sort_pop(fitness_function, reverse_sort)\n",
    "                print(f\"Nº gen: {i}, Best ind: {self.population[0]}, Best fitness: {self.fitnesses[0]:.3f}\")"
   ]
  },
  {
   "cell_type": "code",
   "execution_count": 8,
   "metadata": {},
   "outputs": [],
   "source": [
    "# himmelblau modified to have only one global minimum (-3.77, -3.28)\n",
    "# si se pone \"onlyone\" a True \n",
    "onlyone = True\n",
    "def himmelblau(chromosome: list[float, float]) -> float:\n",
    "\tx = chromosome[0]\n",
    "\ty = chromosome[1]\n",
    "\tfxy = (x**2 + y - 11)**2 + (x + y**2 -7)**2\n",
    "\tif onlyone and (x>0 or y>0): \n",
    "\t\tfxy += 0.5\n",
    "\treturn fxy\n",
    "\n",
    "# fitness para himmelblau: valor mínimo de la función\n",
    "def fitness_himmel(chromosome: list[float, float]):\n",
    "\treturn 1 / (1 + himmelblau(chromosome))"
   ]
  },
  {
   "cell_type": "markdown",
   "metadata": {},
   "source": [
    "## **---------------------------Tests---------------------------**"
   ]
  },
  {
   "cell_type": "code",
   "execution_count": 26,
   "metadata": {},
   "outputs": [
    {
     "name": "stdout",
     "output_type": "stream",
     "text": [
      "Nº gen: 0, Best ind: [3.51, -1.94], Best fitness: 0.510\n",
      "Nº gen: 100, Best ind: [-3.71, -3.27], Best fitness: 0.796\n",
      "Nº gen: 200, Best ind: [-3.71, -3.27], Best fitness: 0.796\n",
      "Nº gen: 300, Best ind: [-3.71, -3.27], Best fitness: 0.796\n",
      "Nº gen: 400, Best ind: [-3.78, -3.29], Best fitness: 0.998\n",
      "Nº gen: 500, Best ind: [-3.78, -3.29], Best fitness: 0.998\n",
      "Nº gen: 600, Best ind: [-3.78, -3.29], Best fitness: 0.998\n",
      "Nº gen: 700, Best ind: [-3.78, -3.29], Best fitness: 0.998\n",
      "Nº gen: 800, Best ind: [-3.78, -3.29], Best fitness: 0.998\n",
      "Nº gen: 900, Best ind: [-3.78, -3.29], Best fitness: 0.998\n",
      "Nº gen: 999, Best ind: [-3.78, -3.29], Best fitness: 0.998\n",
      "*******Tiempo transcurrido: 0 minutos y 0.66 segundos*******\n"
     ]
    }
   ],
   "source": [
    "start = time.time()\n",
    "genetic_algorithm = AG_Himmelblau(N=100) \n",
    "final_population = genetic_algorithm.evolve(fitness_function=fitness_himmel, pmut=0.1, ngen=1000, T=6, trace=100, reverse_sort=True)\n",
    "minutos, segundos = divmod(time.time()-start, 60)\n",
    "print(f\"*******Tiempo transcurrido: {int(minutos)} minutos y {segundos:.2f} segundos*******\")"
   ]
  }
 ],
 "metadata": {
  "kernelspec": {
   "display_name": ".venv",
   "language": "python",
   "name": "python3"
  },
  "language_info": {
   "codemirror_mode": {
    "name": "ipython",
    "version": 3
   },
   "file_extension": ".py",
   "mimetype": "text/x-python",
   "name": "python",
   "nbconvert_exporter": "python",
   "pygments_lexer": "ipython3",
   "version": "3.12.0"
  }
 },
 "nbformat": 4,
 "nbformat_minor": 2
}
